{
 "cells": [
  {
   "cell_type": "markdown",
   "metadata": {},
   "source": [
    "# Task 3"
   ]
  },
  {
   "cell_type": "markdown",
   "metadata": {},
   "source": [
    "Standard Deviation"
   ]
  },
  {
   "cell_type": "markdown",
   "metadata": {},
   "source": [
    "***"
   ]
  },
  {
   "cell_type": "markdown",
   "metadata": {},
   "source": [
    "What was required for this task was to research the two excel functions STDEV.P and STDEV.S.Then numpty is usedto perform a simulation demonstraing that the STDEV.S calculation is a better estiate for the standared deviation of a population when performed on a sample"
   ]
  },
  {
   "cell_type": "markdown",
   "metadata": {},
   "source": [
    "The STDEV.P function calculates the standard deviation for a sample set of data. Standard deviation is a measure of how much variance there is in a set of numbers compared to the average (mean) of the numbers. The STDEV.P function is meant to estimate standard deviation for an entire population.The formula being usedfor standard deviation is: $$ \\sigma x = \\sqrt \\frac (1)(n) \n",
    "\\sum \\limits_(!=1) ^(n) ( x_i - bar x )^2$$"
   ]
  },
  {
   "cell_type": "markdown",
   "metadata": {},
   "source": [
    "Mean absolute deviation The mean absolute deviation of a dataset is the average distance between each data point and the mean. Below is the formula to calculate the Mean of a population: $$ Population (MAD)= \\frac{1}{n} \\sum \\limits_{i=1} ^{n}| x_i - \\bar x $$\n",
    "\n",
    "STDDEV.S STDDEV.S is used when you have a sample of a dataset such as a sample of a population. Ex Find population of males in a school. This would be used to generalise this sample to the entire popuation. The sample will then be used as an estimate of the entire population. The formula we use for standard deviation on a sample of a population is: $$ S x = \\sqrt \\frac {1}{n -1} \\sum \\limits_{i=1} ^{n} ( x_i - \\bar x )^2$$\n",
    "\n",
    "Below is the equation to calculate the Mean Absolute Variance of a sample of a Population is: $$Sample (MAD)= \\frac{1}{n -1} \\sum \\limits_{i=1} ^{n}| x_i - \\bar x $$"
   ]
  },
  {
   "cell_type": "code",
   "execution_count": 1,
   "metadata": {},
   "outputs": [
    {
     "name": "stdout",
     "output_type": "stream",
     "text": [
      "STDEV.P(population): 15.070958391823412\n",
      "STDEV.P(sample): 18.113789636627672\n",
      "STDEV.S(sample): 19.364455656102056\n"
     ]
    }
   ],
   "source": [
    "import numpy as np\n",
    "\n",
    "# STDEV.P\n",
    "def STDEVP(x):\n",
    "    sd = np.sqrt(np.sum((x - np.mean(x))**2)/len(x))\n",
    "    return sd\n",
    "\n",
    "# STDEV.S\n",
    "def STDEVS(x):\n",
    "    sd = np.sqrt(np.sum((x - np.mean(x))**2)/(len(x)-1))\n",
    "    return sd\n",
    "\n",
    "population = [1, 4, 6, 13, 14, 22, 28, 39, 23, 23, 5, 34, 43, 12, 1, 2, 34, 15, 26, 4, 55]\n",
    "# Sample of population\n",
    "sample = [1, 6, 13, 14, 22, 39, 43, 55]\n",
    "\n",
    "print(\"STDEV.P(population): \" + str(STDEVP(population)))\n",
    "print(\"STDEV.P(sample): \" + str(STDEVP(sample)))\n",
    "print(\"STDEV.S(sample): \" + str(STDEVS(sample)))"
   ]
  },
  {
   "cell_type": "markdown",
   "metadata": {},
   "source": [
    "It is apparent that STDEV.S is a better estimation of the population in the STDEV.S we divided the population by (x-1) as opposed to in the STDEV.P where we only divided by (x)"
   ]
  },
  {
   "cell_type": "markdown",
   "metadata": {},
   "source": [
    "References"
   ]
  },
  {
   "cell_type": "markdown",
   "metadata": {},
   "source": [
    "***"
   ]
  },
  {
   "cell_type": "markdown",
   "metadata": {},
   "source": [
    "[1] https://www.khanacademy.org/math/statistics-probability/summarizing-quantitative-data/variance-standard-deviation-sample/a/population-and-sample-standard-deviation-review\n",
    "[2] https://www.khanacademy.org/math/statistics-probability/summarizing-quantitative-data/other-measures-of-spread/a/mean-absolute-deviation-mad-review\n",
    "[3] https://www.wallstreetmojo.com/standard-deviation-in-excel/"
   ]
  }
 ],
 "metadata": {
  "kernelspec": {
   "display_name": "Python 3",
   "language": "python",
   "name": "python3"
  },
  "language_info": {
   "codemirror_mode": {
    "name": "ipython",
    "version": 3
   },
   "file_extension": ".py",
   "mimetype": "text/x-python",
   "name": "python",
   "nbconvert_exporter": "python",
   "pygments_lexer": "ipython3",
   "version": "3.8.3"
  }
 },
 "nbformat": 4,
 "nbformat_minor": 4
}
