{
 "cells": [
  {
   "cell_type": "markdown",
   "metadata": {},
   "source": [
    "# Task 2"
   ]
  },
  {
   "cell_type": "markdown",
   "metadata": {},
   "source": [
    "Chi-squared test for independence"
   ]
  },
  {
   "cell_type": "markdown",
   "metadata": {},
   "source": [
    "The purpose of this task is using scipy stats to verify this value and be able to calculate the p value"
   ]
  },
  {
   "cell_type": "markdown",
   "metadata": {},
   "source": [
    "The Chi-Square Test of Independence determines whether there is an association between categorical variables (i.e., whether the variables are independent or related)"
   ]
  },
  {
   "cell_type": "markdown",
   "metadata": {},
   "source": [
    "This test utilizes a contingency table to analyze the data. A contingency table is an arrangement in which data is classified according to two categorical variables. The categories for one variable appear in the rows, and the categories for the other variable appear in columns. Each variable must have two or more categories. Each cell reflects the total count of cases for a specific pair of categories."
   ]
  },
  {
   "cell_type": "markdown",
   "metadata": {},
   "source": [
    " \n",
    "\n",
    "The formula for chi squared test is\n",
    "$$ x^2= \\sum \\limits \\frac {(O_i - E_i)^2} {E_i} $$"
   ]
  },
  {
   "cell_type": "markdown",
   "metadata": {},
   "source": [
    "The code below is the Chi-Squared test using the scripy.stats import"
   ]
  },
  {
   "cell_type": "code",
   "execution_count": 6,
   "metadata": {},
   "outputs": [
    {
     "name": "stdout",
     "output_type": "stream",
     "text": [
      "=====================\n",
      "Calculated Chi-Value\n",
      "24.5712028585826\n",
      "=====================\n",
      "Associated p Value\n",
      "0.0004098425861096696\n",
      "=====================\n"
     ]
    }
   ],
   "source": [
    "#Imports\n",
    "import scipy.stats as stats\n",
    "\n",
    "# values which we got from the table provided\n",
    "rows = [[90,60,104,95],[30,50,51,20],[30,40,45,35]]\n",
    "\n",
    "#Then pass the rows from the table into the test for independence.\n",
    "chi2,p,doof,exp = stats.chi2_contingency(rows)\n",
    "\n",
    "#We then print the results we get from the test.\n",
    "print(\"=====================\")\n",
    "print(\"Calculated Chi-Value\")\n",
    "print(chi2)\n",
    "print(\"=====================\")\n",
    "print(\"Associated p Value\")\n",
    "print(p)\n",
    "print(\"=====================\")"
   ]
  },
  {
   "cell_type": "markdown",
   "metadata": {},
   "source": [
    "References"
   ]
  },
  {
   "cell_type": "markdown",
   "metadata": {},
   "source": [
    "***"
   ]
  },
  {
   "cell_type": "markdown",
   "metadata": {},
   "source": [
    "[1] https://libguides.library.kent.edu/spss/chisquare\n",
    "[2]  https://en.wikipedia.org/wiki/Chi-squared_test\n",
    "[3]  https://www.khanacademy.org/math/statistics-probability/inference-categorical-data-chi-square-tests/chi-square-goodness-of-fit-tests/v/pearson-s-chi-square-test-goodness-of-fit\n",
    "[4] https://en.wikipedia.org/wiki/Contingency_table#:~:text=In%20statistics%2C%20a%20contingency%20table,%2C%20engineering%2C%20and%20scientific%20research.\n",
    "[5] https://www.tutorialspoint.com/scipy/scipy_stats.htm"
   ]
  },
  {
   "cell_type": "code",
   "execution_count": null,
   "metadata": {},
   "outputs": [],
   "source": []
  }
 ],
 "metadata": {
  "kernelspec": {
   "display_name": "Python 3",
   "language": "python",
   "name": "python3"
  },
  "language_info": {
   "codemirror_mode": {
    "name": "ipython",
    "version": 3
   },
   "file_extension": ".py",
   "mimetype": "text/x-python",
   "name": "python",
   "nbconvert_exporter": "python",
   "pygments_lexer": "ipython3",
   "version": "3.8.3"
  }
 },
 "nbformat": 4,
 "nbformat_minor": 4
}
