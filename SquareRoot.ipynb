{
 "cells": [
  {
   "cell_type": "markdown",
   "metadata": {},
   "source": [
    "# Tasks"
   ]
  },
  {
   "cell_type": "markdown",
   "metadata": {},
   "source": [
    "***"
   ]
  },
  {
   "cell_type": "markdown",
   "metadata": {},
   "source": [
    "These are my solutions to the tasks assessment.The author is Shane McCormack (G00359748@gmit.ie)"
   ]
  },
  {
   "cell_type": "markdown",
   "metadata": {},
   "source": [
    "### Task 1\n",
    "\n",
    "To calculate the square root of 2 to 100 decimal places\n",
    "\n",
    "***\n",
    "\n",
    "We can calculate the square root of a number using Newton's method [1].\n",
    "To find the square root $z$ of a number $x$, we can iterate using the following equation.\n",
    "\n",
    "$$ z_{next} = z = \\frac{z^2 -x} {2x} $$\n",
    "\n",
    "[1] A Tour of Go Excercise: Loops and Functions; http://tour.golang.org/flowcontrol/8\n",
    "[2] Newton's method; https://en.wikipedia.org/wiki/Newton%27s_method"
   ]
  },
  {
   "cell_type": "code",
   "execution_count": 8,
   "metadata": {},
   "outputs": [],
   "source": [
    "def sqrt2(x):\n",
    "    \"\"\"\n",
    "    A function to calculate the square root of 2 to 100 decimal places.\n",
    "    \"\"\"\n",
    "    #initial guess for the square root of 2.\n",
    "    z = x / 2\n",
    "    # Loop until we're happy with the accuracy.\n",
    "    while abs(x -(z * z)) > 0.0001:\n",
    "        # Calculate a better guess for the square root.\n",
    "        z -= (z*z - x) / (2 *z)\n",
    "    # Return the square root of 2.\n",
    "    return print(\"%.100f\" % z)"
   ]
  },
  {
   "cell_type": "code",
   "execution_count": 9,
   "metadata": {},
   "outputs": [
    {
     "name": "stdout",
     "output_type": "stream",
     "text": [
      "1.4142156862745098866440685014822520315647125244140625000000000000000000000000000000000000000000000000\n"
     ]
    }
   ],
   "source": [
    "sqrt2(2)"
   ]
  },
  {
   "cell_type": "code",
   "execution_count": 10,
   "metadata": {},
   "outputs": [
    {
     "name": "stdout",
     "output_type": "stream",
     "text": [
      "1.4142156862745098866440685014822520315647125244140625000000000000000000000000000000000000000000000000\n"
     ]
    }
   ],
   "source": [
    "import math\n",
    "sqrt2(2)"
   ]
  },
  {
   "cell_type": "code",
   "execution_count": null,
   "metadata": {},
   "outputs": [],
   "source": []
  },
  {
   "cell_type": "code",
   "execution_count": null,
   "metadata": {},
   "outputs": [],
   "source": []
  }
 ],
 "metadata": {
  "kernelspec": {
   "display_name": "Python 3",
   "language": "python",
   "name": "python3"
  },
  "language_info": {
   "codemirror_mode": {
    "name": "ipython",
    "version": 3
   },
   "file_extension": ".py",
   "mimetype": "text/x-python",
   "name": "python",
   "nbconvert_exporter": "python",
   "pygments_lexer": "ipython3",
   "version": "3.8.3"
  }
 },
 "nbformat": 4,
 "nbformat_minor": 4
}
